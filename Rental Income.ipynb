{
 "cells": [
  {
   "cell_type": "code",
   "execution_count": 1,
   "id": "a09e6ddb",
   "metadata": {},
   "outputs": [
    {
     "name": "stdout",
     "output_type": "stream",
     "text": [
      "The Return on Investment (ROI) for the rental property is 3.00%\n"
     ]
    }
   ],
   "source": [
    "class RentalProperty:\n",
    "    \n",
    "    def __init__(self, purchase_price, monthly_rent, annual_expenses):\n",
    "        self.purchase_price = purchase_price\n",
    "        self.monthly_rent = monthly_rent\n",
    "        self.annual_expenses = annual_expenses\n",
    "        \n",
    "    def calculate_annual_income(self):\n",
    "        return self.monthly_rent * 12\n",
    "    \n",
    "    def calculate_net_income(self):\n",
    "        total_income = self.calculate_annual_income()\n",
    "        net_income = total_income - self.annual_expenses\n",
    "        return net_income\n",
    "    \n",
    "    def calculate_roi(self):\n",
    "        net_income = self.calculate_net_income()\n",
    "        return (net_income / self.purchase_price) * 100\n",
    "\n",
    "# Create an instance of RentalProperty\n",
    "property1 = RentalProperty(200000, 1500, 12000)\n",
    "\n",
    "# Calculate ROI\n",
    "roi = property1.calculate_roi()\n",
    "\n",
    "print(f\"The Return on Investment (ROI) for the rental property is {roi:.2f}%\")"
   ]
  }
 ],
 "metadata": {
  "kernelspec": {
   "display_name": "Python 3 (ipykernel)",
   "language": "python",
   "name": "python3"
  },
  "language_info": {
   "codemirror_mode": {
    "name": "ipython",
    "version": 3
   },
   "file_extension": ".py",
   "mimetype": "text/x-python",
   "name": "python",
   "nbconvert_exporter": "python",
   "pygments_lexer": "ipython3",
   "version": "3.11.4"
  }
 },
 "nbformat": 4,
 "nbformat_minor": 5
}
